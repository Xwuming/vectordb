{
 "cells": [
  {
   "cell_type": "code",
   "execution_count": null,
   "id": "4221040e",
   "metadata": {
    "vscode": {
     "languageId": "plaintext"
    }
   },
   "outputs": [],
   "source": [
    "import os\n",
    "from openai import OpenAI\n",
    "\n",
    "client = OpenAI(\n",
    "    api_key=\"xx\",\n",
    "    base_url=\"https://dashscope.aliyuncs.com/compatible-mode/v1\"\n",
    ")\n",
    "\n",
    "query=\"TDengine一个cpu可以处理几个vnode？\"\n",
    "\n",
    "print(query)\n",
    "\n",
    "completion = client.chat.completions.create(\n",
    "    model=\"qwen-max\", # 更多模型请参见模型列表文档。\n",
    "    messages = [{\"role\": \"user\", \"content\": query}]\n",
    ")\n",
    "\n",
    "print(\"大模型回答：\")\n",
    "print(completion.choices[0].message.content)"
   ]
  }
 ],
 "metadata": {
  "kernelspec": {
   "display_name": "Python 3 (ipykernel)",
   "language": "python",
   "name": "python3"
  },
  "language_info": {
   "codemirror_mode": {
    "name": "ipython",
    "version": 3
   },
   "file_extension": ".py",
   "mimetype": "text/x-python",
   "name": "python",
   "nbconvert_exporter": "python",
   "pygments_lexer": "ipython3",
   "version": "3.12.2"
  }
 },
 "nbformat": 4,
 "nbformat_minor": 5
}
